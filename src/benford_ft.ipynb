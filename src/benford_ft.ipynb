{
 "cells": [
  {
   "cell_type": "code",
   "execution_count": null,
   "id": "electronic-cosmetic",
   "metadata": {},
   "outputs": [],
   "source": [
    "import numpy as np\n",
    "import matplotlib.pyplot as plt\n",
    "\n",
    "from konstante import get_constants\n",
    "\n",
    "from benford_helper_functions import get_first_digit, normalize, shift_multiply_integrate_pdf\n",
    "from benford_helper_functions import make_sampling_function\n",
    "from benford_helper_functions import benford_ft"
   ]
  },
  {
   "cell_type": "markdown",
   "id": "boring-security",
   "metadata": {},
   "source": [
    "[https://stackoverflow.com/questions/66912677/scipy-stats-lognormal-distribution-obtain-pdf-with-given-lognormal-distribution](link)"
   ]
  },
  {
   "cell_type": "code",
   "execution_count": null,
   "id": "royal-burden",
   "metadata": {},
   "outputs": [],
   "source": [
    "import sys\n",
    "\n",
    "sys.path.append('../..')\n",
    "from plotting.matplotlib_setup import configure_latex, savefig, set_size_decorator, savefig\n",
    "\n",
    "tex_dir, images_dir = 'porocilo/main.tex', 'porocilo/images'\n",
    "\n",
    "configure_latex(style=['science', 'notebook'], global_save_path=images_dir)\n",
    "\n",
    "%config InlineBackend.figure_format = 'pdf'"
   ]
  },
  {
   "cell_type": "code",
   "execution_count": null,
   "id": "numerical-ontario",
   "metadata": {},
   "outputs": [],
   "source": [
    "from scipy.stats import lognorm\n",
    "\n",
    "def lognormMu(x, mu, s):\n",
    "    tempX = x / np.exp(mu)\n",
    "    return lognorm.pdf(tempX, s)\n",
    "\n",
    "x = np.logspace(0, 6, 10000)[1:] # NON log axis\n",
    "\n",
    "s = [0.5, 0.8, 1.2]\n",
    "lognorm_pdf1 = lognormMu(x, mu=7.1, s=s[0])\n",
    "lognorm_pdf2 = lognormMu(x, mu=7.1, s=s[1])\n",
    "lognorm_pdf3 = lognormMu(x, mu=7.1, s=s[2])"
   ]
  },
  {
   "cell_type": "code",
   "execution_count": null,
   "id": "common-atlanta",
   "metadata": {},
   "outputs": [],
   "source": [
    "consts = get_constants() # constants dataset"
   ]
  },
  {
   "cell_type": "code",
   "execution_count": null,
   "id": "contrary-vegetarian",
   "metadata": {},
   "outputs": [],
   "source": [
    "lognorm_pdf1 = normalize(lognorm_pdf1, np.log10(x))\n",
    "lognorm_pdf2 = normalize(lognorm_pdf2, np.log10(x))\n",
    "lognorm_pdf3 = normalize(lognorm_pdf3, np.log10(x))"
   ]
  },
  {
   "cell_type": "code",
   "execution_count": null,
   "id": "opening-chemical",
   "metadata": {},
   "outputs": [],
   "source": [
    "log_input = np.log10(np.abs(consts))\n",
    "n_, bins_ = np.histogram(log_input, bins=len(log_input), density=True)\n",
    "bins_ = bins_[1:]"
   ]
  },
  {
   "cell_type": "code",
   "execution_count": null,
   "id": "exceptional-patent",
   "metadata": {},
   "outputs": [],
   "source": [
    "f, SF, sf, PDF, OST, ost = benford_ft(n_, bins_, shift=True)"
   ]
  },
  {
   "cell_type": "code",
   "execution_count": null,
   "id": "minimal-digit",
   "metadata": {},
   "outputs": [],
   "source": [
    "plt.plot(f, np.abs(PDF))"
   ]
  },
  {
   "cell_type": "code",
   "execution_count": null,
   "id": "suffering-technique",
   "metadata": {},
   "outputs": [],
   "source": [
    "bins = np.log10(x)\n",
    "N = len(bins)"
   ]
  },
  {
   "cell_type": "code",
   "execution_count": null,
   "id": "heavy-rochester",
   "metadata": {},
   "outputs": [],
   "source": [
    "ns = [lognorm_pdf1, lognorm_pdf2, lognorm_pdf3]"
   ]
  },
  {
   "cell_type": "code",
   "execution_count": null,
   "id": "incoming-wright",
   "metadata": {},
   "outputs": [],
   "source": [
    "res = []\n",
    "for n in ns:\n",
    "    f, SF, sf, PDF, OST, ost = benford_ft(n, bins, shift=True)\n",
    "    res.append([f, SF, sf, PDF, OST, ost])"
   ]
  },
  {
   "cell_type": "code",
   "execution_count": null,
   "id": "neutral-oasis",
   "metadata": {},
   "outputs": [],
   "source": [
    "fig, ax = set_size_decorator(plt.subplots, fraction=0.5, ratio='4:3')(1, 1)\n",
    "\n",
    "ax.plot(bins, res[0][2], lw=1)\n",
    "ax.set_xlabel(r'$\\log_{10}x$')\n",
    "ax.set_ylabel('sampling function')\n",
    "#savefig('lognorm_sampling_function')"
   ]
  },
  {
   "cell_type": "code",
   "execution_count": null,
   "id": "packed-rhythm",
   "metadata": {},
   "outputs": [],
   "source": [
    "fig, ax = set_size_decorator(plt.subplots, fraction=0.5, ratio='4:3')(1, 1)\n",
    "\n",
    "ax.plot(res[0][0][N//2:], np.abs(res[0][1][N//2:]), lw=1)\n",
    "ax.set_xlim([-0.2, 4.4])\n",
    "\n",
    "ax.set_xlabel('$f$')\n",
    "ax.set_ylabel('FT(sampling function)')\n",
    "\n",
    "# savefig('lognorm_FT_sampling_function')"
   ]
  },
  {
   "cell_type": "code",
   "execution_count": null,
   "id": "listed-johnson",
   "metadata": {},
   "outputs": [],
   "source": [
    "fig, ax = set_size_decorator(plt.subplots, fraction=0.5, ratio='4:3')(1, 1)\n",
    "\n",
    "for r in res:\n",
    "    ax.plot(r[0][N//2:], np.abs(r[3][N//2:]), lw=1)\n",
    "\n",
    "ax.set_xlim([-0.1, 3])\n",
    "ax.set_xlabel('$f$')\n",
    "ax.set_ylabel('FT(porazdelitev)')\n",
    "    \n",
    "#savefig('lognorm_FT_pdf')"
   ]
  },
  {
   "cell_type": "code",
   "execution_count": null,
   "id": "mobile-toddler",
   "metadata": {},
   "outputs": [],
   "source": [
    "fig, ax = set_size_decorator(plt.subplots, fraction=0.5, ratio='4:3')(1, 1)\n",
    "\n",
    "for r in res:\n",
    "    ax.plot(r[0][N//2:], np.abs(r[4][N//2:]), lw=1)\n",
    "\n",
    "ax.set_xlim([-0.1, 4])\n",
    "ax.set_xlabel('$f$')\n",
    "ax.set_ylabel('FT(sf) $\\cdot$ FT(pdf)')\n",
    "\n",
    "#savefig('lognorm_conv')"
   ]
  },
  {
   "cell_type": "code",
   "execution_count": null,
   "id": "elementary-municipality",
   "metadata": {},
   "outputs": [],
   "source": [
    "fig, ax = set_size_decorator(plt.subplots, fraction=0.5, ratio='4:3')(1, 1)\n",
    "\n",
    "for r in res:\n",
    "    ax.plot(range(len(r[5])), r[5], lw=1)\n",
    "    print(np.mean(r[5]))\n",
    "\n",
    "ax.set_xlabel('$k$')\n",
    "ax.set_ylabel('iFT[FT(sf) $\\cdot$ FT(pdf)]')\n",
    "\n",
    "# savefig('lognorm_ost')"
   ]
  },
  {
   "cell_type": "code",
   "execution_count": null,
   "id": "unsigned-intranet",
   "metadata": {},
   "outputs": [],
   "source": [
    "from benford_helper_functions import benfords_test\n",
    "\n",
    "x = np.logspace(-16, 16, 10000)[1:]\n",
    "\n",
    "sigmas = np.linspace(0.05, 3.5, 1000)\n",
    "\n",
    "res = []\n",
    "dists = []\n",
    "for s in sigmas:\n",
    "    lognorm_pdf = lognormMu(x, mu=12, s=s)\n",
    "    \n",
    "    idx = np.argwhere(lognorm_pdf > 0)\n",
    "    z = np.log10(x)\n",
    "    \n",
    "    lognorm_pdf = normalize(lognorm_pdf, z)\n",
    "    t = benfords_test(lognorm_pdf, z)\n",
    "    res.append(t)\n",
    "    dists.append(lognorm_pdf)"
   ]
  },
  {
   "cell_type": "code",
   "execution_count": null,
   "id": "powered-interaction",
   "metadata": {},
   "outputs": [],
   "source": [
    "fig, axs = set_size_decorator(plt.subplots, fraction=1, ratio='4:3')(1, 2)\n",
    "\n",
    "axs[0].set_yscale('log')\n",
    "axs[0].plot(sigmas, res, lw=1, c='C0')\n",
    "\n",
    "axs[1].set_xscale('log')\n",
    "axs[1].plot(x, dists[104], label=f'$\\sigma={sigmas[104]:.2f}$', lw=1, c='C1')\n",
    "axs[1].plot(x, dists[len(sigmas)//2], label=f'$\\sigma={sigmas[len(sigmas)//2]:.2f}$', lw=1, c='C2')\n",
    "axs[1].plot(x, dists[np.argmin(res)], label=f'$\\sigma={sigmas[np.argmin(res)]:.2f}$', lw=1, c='C3')\n",
    "axs[1].legend()\n",
    "\n",
    "axs[0].set_ylabel('FT$[f](1)$')\n",
    "axs[0].set_xlabel('$\\sigma$')\n",
    "\n",
    "axs[1].set_ylabel('$f_X(x)$')\n",
    "axs[1].set_xlabel('$\\log_{10}x$')\n",
    "\n",
    "# savefig('sigma_FT')"
   ]
  },
  {
   "cell_type": "code",
   "execution_count": null,
   "id": "broadband-spencer",
   "metadata": {},
   "outputs": [],
   "source": []
  }
 ],
 "metadata": {
  "kernelspec": {
   "display_name": "Python 3 (ipykernel)",
   "language": "python",
   "name": "python3"
  },
  "language_info": {
   "codemirror_mode": {
    "name": "ipython",
    "version": 3
   },
   "file_extension": ".py",
   "mimetype": "text/x-python",
   "name": "python",
   "nbconvert_exporter": "python",
   "pygments_lexer": "ipython3",
   "version": "3.8.7"
  }
 },
 "nbformat": 4,
 "nbformat_minor": 5
}
