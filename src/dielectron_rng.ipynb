{
 "cells": [
  {
   "cell_type": "code",
   "execution_count": null,
   "id": "administrative-royal",
   "metadata": {},
   "outputs": [],
   "source": [
    "import numpy as np\n",
    "import pandas as pd\n",
    "import matplotlib.pyplot as plt"
   ]
  },
  {
   "cell_type": "code",
   "execution_count": null,
   "id": "annual-circle",
   "metadata": {},
   "outputs": [],
   "source": [
    "import sys\n",
    "\n",
    "import matplotlib.pyplot as plt\n",
    "\n",
    "sys.path.append('../..')\n",
    "from plotting.matplotlib_setup import configure_latex, savefig, set_size_decorator, savefig, thiner_border\n",
    "\n",
    "tex_dir, images_dir = 'porocilo/main.tex', 'porocilo/images'\n",
    "\n",
    "configure_latex(style=['science', 'notebook'], global_save_path=images_dir)\n",
    "\n",
    "%config InlineBackend.figure_format = 'pdf'"
   ]
  },
  {
   "cell_type": "code",
   "execution_count": null,
   "id": "rubber-phrase",
   "metadata": {},
   "outputs": [],
   "source": [
    "from NIST_tests import RNG_test\n",
    "from random_helper_functions import get_bitstring, binary_tree_walk\n",
    "from benford_helper_functions import get_first_digit, benfords_test, normalize\n",
    "from stat_tests import chi2_test, ks_test"
   ]
  },
  {
   "cell_type": "markdown",
   "id": "surprised-runner",
   "metadata": {},
   "source": [
    "https://www.kaggle.com/fedesoriano/cern-electron-collision-data"
   ]
  },
  {
   "cell_type": "markdown",
   "id": "lesser-nashville",
   "metadata": {},
   "source": [
    "# Load data"
   ]
  },
  {
   "cell_type": "code",
   "execution_count": null,
   "id": "arctic-republican",
   "metadata": {},
   "outputs": [],
   "source": [
    "df = pd.read_csv('dielectron_data/dielectron.csv')"
   ]
  },
  {
   "cell_type": "code",
   "execution_count": null,
   "id": "great-heading",
   "metadata": {},
   "outputs": [],
   "source": [
    "df.head()"
   ]
  },
  {
   "cell_type": "code",
   "execution_count": null,
   "id": "public-butter",
   "metadata": {},
   "outputs": [],
   "source": [
    "fig, axs = set_size_decorator(plt.subplots, fraction=1.8, ratio='4:3')(5, 4)\n",
    "\n",
    "axs[-1, -1].set_visible(False)\n",
    "\n",
    "axs = df.hist(bins=40, histtype='step', ax=axs.flatten()[:-1], lw=1.5)\n",
    "axs = [thiner_border(ax) for ax in axs]\n",
    "\n",
    "for ax in axs:\n",
    "    ax.grid(False)\n",
    "    ax.ticklabel_format(style='sci', axis='y', scilimits=(0, 0))\n",
    "    \n",
    "# savefig('dielectron_hists', tight_layout=False)"
   ]
  },
  {
   "cell_type": "markdown",
   "id": "numerous-accessory",
   "metadata": {},
   "source": [
    "# Naboji"
   ]
  },
  {
   "cell_type": "code",
   "execution_count": null,
   "id": "juvenile-trout",
   "metadata": {},
   "outputs": [],
   "source": [
    "df['Q1'][df['Q1'] == -1] = 0\n",
    "df['Q2'][df['Q2'] == -1] = 0"
   ]
  },
  {
   "cell_type": "code",
   "execution_count": null,
   "id": "unavailable-plenty",
   "metadata": {},
   "outputs": [],
   "source": [
    "Q1 = df['Q1'].values\n",
    "Q2 = df['Q2'].values\n",
    "\n",
    "q1 = Q1.astype(str)\n",
    "q2 = Q2.astype(str)\n",
    "q1 = ''.join(q1)\n",
    "q2 = ''.join(q2)"
   ]
  },
  {
   "cell_type": "code",
   "execution_count": null,
   "id": "republican-namibia",
   "metadata": {},
   "outputs": [],
   "source": [
    "q = np.concatenate((df['Q1'].values, df['Q2'].values)).astype(str)\n",
    "q = ''.join(q)"
   ]
  },
  {
   "cell_type": "code",
   "execution_count": null,
   "id": "demographic-classic",
   "metadata": {},
   "outputs": [],
   "source": [
    "Q = np.vstack((Q1, Q2)).T.flatten().astype(str)\n",
    "Q = ''.join(Q)"
   ]
  },
  {
   "cell_type": "code",
   "execution_count": null,
   "id": "incident-pregnancy",
   "metadata": {},
   "outputs": [],
   "source": [
    "t1 = RNG_test(q1, short_df=True)\n",
    "t2 = RNG_test(q2, short_df=True)\n",
    "t3 = RNG_test(q, short_df=True)\n",
    "t4 = RNG_test(Q, short_df=True)\n",
    "\n",
    "test_q_df = pd.concat((t1, t2, t3, t4))"
   ]
  },
  {
   "cell_type": "code",
   "execution_count": null,
   "id": "global-repository",
   "metadata": {},
   "outputs": [],
   "source": [
    "test_q_df.columns = [i for i in range(1, 15+1)]\n",
    "test_q_df.index = [r'$p_{Q_1}$', r'$p_{Q_2}$', r'$p_{Q_1 Q_2}$', r'$p_{Q_1, Q_2}$']"
   ]
  },
  {
   "cell_type": "code",
   "execution_count": null,
   "id": "intermediate-apparatus",
   "metadata": {},
   "outputs": [],
   "source": [
    "test_q_df"
   ]
  },
  {
   "cell_type": "code",
   "execution_count": null,
   "id": "historic-refund",
   "metadata": {},
   "outputs": [],
   "source": [
    "np.unique(Q1 == Q2, return_counts=True)"
   ]
  },
  {
   "cell_type": "code",
   "execution_count": null,
   "id": "referenced-modem",
   "metadata": {},
   "outputs": [],
   "source": [
    "np.unique(Q1, return_counts=True)"
   ]
  },
  {
   "cell_type": "code",
   "execution_count": null,
   "id": "otherwise-generic",
   "metadata": {},
   "outputs": [],
   "source": [
    "np.unique(Q2, return_counts=True)"
   ]
  },
  {
   "cell_type": "code",
   "execution_count": null,
   "id": "sustainable-beads",
   "metadata": {},
   "outputs": [],
   "source": [
    "np.unique(df['Q1'].values, return_counts=True)"
   ]
  },
  {
   "cell_type": "code",
   "execution_count": null,
   "id": "figured-connection",
   "metadata": {},
   "outputs": [],
   "source": [
    "np.unique(df['Q2'].values, return_counts=True)"
   ]
  },
  {
   "cell_type": "markdown",
   "id": "adjustable-private",
   "metadata": {},
   "source": [
    "# Mnozenje"
   ]
  },
  {
   "cell_type": "code",
   "execution_count": null,
   "id": "attended-indian",
   "metadata": {},
   "outputs": [],
   "source": [
    "ps = [df['px1 '].values, df['py1'].values, df['pz1'].values, df['px2'].values, df['py2'].values, df['pz2'].values]\n",
    "ps = np.abs(np.array(ps))\n",
    "\n",
    "r = np.arange(0, len(ps))\n",
    "\n",
    "dists = []\n",
    "\n",
    "for i in r:\n",
    "    m = np.prod(ps[:i+1], axis=0)\n",
    "    dists.append(m)"
   ]
  },
  {
   "cell_type": "code",
   "execution_count": null,
   "id": "exotic-transcription",
   "metadata": {},
   "outputs": [],
   "source": [
    "fig, ax = set_size_decorator(plt.subplots, fraction=0.8, ratio='golden')(1, 1)\n",
    "\n",
    "for i, lognorm in enumerate(dists):\n",
    "    bins = np.logspace(np.floor(np.log10(lognorm.min())), \n",
    "                       np.floor(np.log10(lognorm.max())) + 1, \n",
    "                       400)\n",
    "\n",
    "    n, bins = np.histogram(lognorm, bins=bins)\n",
    "    bins = bins[1:]\n",
    "    \n",
    "    ax.plot(np.log10(bins), n, lw=1, label=f'$N={i+1}$')\n",
    "\n",
    "ax.legend(fontsize=8, loc='upper left')\n",
    "ax.ticklabel_format(style='sci', axis='y', scilimits=(0, 0))\n",
    "\n",
    "ax.set_xlabel(r'$\\log_{10} X$')\n",
    "ax.set_ylabel('$N$')\n",
    "\n",
    "# savefig('dielectron_lognorm')"
   ]
  },
  {
   "cell_type": "code",
   "execution_count": null,
   "id": "developed-ranking",
   "metadata": {},
   "outputs": [],
   "source": [
    "from benford_helper_functions import benford_ft"
   ]
  },
  {
   "cell_type": "code",
   "execution_count": null,
   "id": "foreign-treaty",
   "metadata": {},
   "outputs": [],
   "source": [
    "f1s = []\n",
    "first_digits = []\n",
    "fracs = []\n",
    "rng_tests = []\n",
    "chi2_tests, ks_tests = [], []\n",
    "\n",
    "alpha = 0.01\n",
    "\n",
    "for i, lognorm in enumerate(dists):\n",
    "    bins = np.logspace(np.floor(np.log10(lognorm.min())), \n",
    "                       np.floor(np.log10(lognorm.max())) + 1, \n",
    "                       len(lognorm))\n",
    "    \n",
    "    n, bins = np.histogram(lognorm, bins=bins)\n",
    "    bins = bins[:-1]\n",
    "    bins = np.log10(bins)\n",
    "    pdf = normalize(n, bins)\n",
    "    \n",
    "    # f1 = benfords_test(n, bins)\n",
    "    freq, SF, sf, PDF, OST, ost = benford_ft(pdf, bins, shift=True)\n",
    "    ind = np.argsort(np.abs(SF))\n",
    "    f1 = np.abs(PDF)[ind[1]]\n",
    "    \n",
    "    f1s.append(f1)\n",
    "    \n",
    "    first_digit = get_first_digit(lognorm)\n",
    "    _, c = np.unique(first_digit, return_counts=True)\n",
    "    c = c / np.sum(c)\n",
    "    first_digits.append(c)\n",
    "    \n",
    "    frac = np.log10(lognorm) % 1\n",
    "    fracs.append(frac)\n",
    "    \n",
    "    chi2_tests.append(chi2_test(frac, n_bins=int(np.sqrt(len(frac))), alpha=alpha))\n",
    "    ks_tests.append(ks_test(frac, alpha=alpha))\n",
    "    \n",
    "    # bits = binary_tree_walk(frac).astype(str)\n",
    "    bits = get_bitstring(frac, length=32)\n",
    "    bits = ''.join(bits)\n",
    "    test = RNG_test(bits, short_df=True)\n",
    "    rng_tests.append(test)\n",
    "\n",
    "df = pd.concat([i for i in rng_tests])\n",
    "df.index = [f'$p_{i}$' for i in range(1, len(df)+1)]\n",
    "df.columns = [i + 1 for i in range(len(df.columns))]"
   ]
  },
  {
   "cell_type": "code",
   "execution_count": null,
   "id": "suspected-september",
   "metadata": {},
   "outputs": [],
   "source": [
    "df"
   ]
  },
  {
   "cell_type": "code",
   "execution_count": null,
   "id": "latter-defeat",
   "metadata": {},
   "outputs": [],
   "source": [
    "dct = {r'$n_1$': [f'{i[0]:.4f}' for i in first_digits],\n",
    "       r'$\\Delta n_1$': [f'{abs(i[0] - np.log10(2)):.4f}' for i in first_digits],\n",
    "       r'$f_1$': [f'{i:.5f}' for i in f1s], \n",
    "       r'$\\chi^2$': [f'{i[0][0][0]:.2f}' for i in chi2_tests],\n",
    "       r'$d$': [f'{i[0][0][0]:.4f}' for i in ks_tests],\n",
    "       r'$p_{\\chi^2}$': [f'{i[0][0][1]:.4f}' for i in chi2_tests],\n",
    "       r'$p_d$': [f'{i[0][0][1]:.4f}' for i in ks_tests]}"
   ]
  },
  {
   "cell_type": "code",
   "execution_count": null,
   "id": "developed-permit",
   "metadata": {},
   "outputs": [],
   "source": [
    "test_df = pd.DataFrame(dct)\n",
    "test_df.index = [f'$N={i}$' for i in range(1, len(df)+1)]\n",
    "test_df.sort_values(by=['$\\chi^2$'], inplace=True)"
   ]
  },
  {
   "cell_type": "code",
   "execution_count": null,
   "id": "fundamental-price",
   "metadata": {},
   "outputs": [],
   "source": []
  }
 ],
 "metadata": {
  "kernelspec": {
   "display_name": "Python 3 (ipykernel)",
   "language": "python",
   "name": "python3"
  },
  "language_info": {
   "codemirror_mode": {
    "name": "ipython",
    "version": 3
   },
   "file_extension": ".py",
   "mimetype": "text/x-python",
   "name": "python",
   "nbconvert_exporter": "python",
   "pygments_lexer": "ipython3",
   "version": "3.8.7"
  }
 },
 "nbformat": 4,
 "nbformat_minor": 5
}
