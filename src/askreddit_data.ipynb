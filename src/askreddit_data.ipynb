{
 "cells": [
  {
   "cell_type": "markdown",
   "id": "393168bd-41f9-4c49-b4be-20b863bf2f06",
   "metadata": {},
   "source": [
    "Code for making: https://www.kaggle.com/thunderz/a-month-of-askreddit"
   ]
  },
  {
   "cell_type": "code",
   "execution_count": null,
   "id": "closing-knife",
   "metadata": {},
   "outputs": [],
   "source": [
    "import sys\n",
    "import os\n",
    "\n",
    "sys.path.insert(0, os.getcwd() + '/reddit_download')"
   ]
  },
  {
   "cell_type": "code",
   "execution_count": null,
   "id": "hourly-inflation",
   "metadata": {},
   "outputs": [],
   "source": [
    "from reddit_download.RWV.pushshift.time_utils import timestamp_to_utc\n",
    "from reddit_download.RWV.pushshift.utils import build_df, apply_df_time_transforms\n",
    "\n",
    "import numpy as np\n",
    "import pandas as pd\n",
    "import matplotlib.pyplot as plt\n",
    "from datetime import datetime"
   ]
  },
  {
   "cell_type": "code",
   "execution_count": null,
   "id": "sharing-season",
   "metadata": {
    "tags": []
   },
   "outputs": [],
   "source": [
    "df_comments = build_df(content_type='comment',\n",
    "                       file_path=os.getcwd() + '/reddit_download',\n",
    "                       subreddits=['reddit_data_askreddit/AskReddit'],\n",
    "                       workers=12)\n",
    "\n",
    "df_posts = build_df(content_type='post',\n",
    "                    file_path=os.getcwd() + '/reddit_download',\n",
    "                    subreddits=['reddit_data_askreddit/AskReddit'],\n",
    "                    workers=12)"
   ]
  },
  {
   "cell_type": "code",
   "execution_count": null,
   "id": "prospective-canyon",
   "metadata": {},
   "outputs": [],
   "source": [
    "df_comments.shape"
   ]
  },
  {
   "cell_type": "code",
   "execution_count": null,
   "id": "collectible-singapore",
   "metadata": {},
   "outputs": [],
   "source": [
    "df_posts.shape"
   ]
  },
  {
   "cell_type": "code",
   "execution_count": null,
   "id": "another-silence",
   "metadata": {},
   "outputs": [],
   "source": [
    "df_comments = df_comments.rename(columns={\"link_id\": \"post_id\"})\n",
    "\n",
    "df_comments = df_comments.rename(columns={\"created_utc\": \"timestamp\"})\n",
    "df_posts = df_posts.rename(columns={\"created_utc\": \"timestamp\"})"
   ]
  },
  {
   "cell_type": "code",
   "execution_count": null,
   "id": "aboriginal-fabric",
   "metadata": {},
   "outputs": [],
   "source": [
    "ind = df_comments[df_comments['author'] == '[deleted]'].index\n",
    "df_comments.drop(ind, inplace=True)\n",
    "\n",
    "ind = df_comments[df_comments['author'] == 'AutoModerator'].index\n",
    "df_comments.drop(ind, inplace=True)\n",
    "\n",
    "ind = df_posts[df_posts['author'] == '[deleted]'].index\n",
    "df_posts.drop(ind, inplace=True)\n",
    "\n",
    "ind = df_posts[df_posts['author'] == 'AutoModerator'].index\n",
    "df_posts.drop(ind, inplace=True)"
   ]
  },
  {
   "cell_type": "code",
   "execution_count": null,
   "id": "treated-leeds",
   "metadata": {},
   "outputs": [],
   "source": [
    "post_id = df_comments['post_id'].copy()\n",
    "\n",
    "df_comments['post_id'] = df_comments['post_id'].apply(lambda x: x.split('_')[1])"
   ]
  },
  {
   "cell_type": "code",
   "execution_count": null,
   "id": "suitable-creator",
   "metadata": {},
   "outputs": [],
   "source": [
    "k = df_posts['post_id']# , df_posts['timestamp']\n",
    "v = np.ones(len(k), dtype=int)\n",
    "id_to_timestamp = dict(zip(k, v))\n",
    "\n",
    "import swifter\n",
    "\n",
    "def func(x, mapping):\n",
    "    try:\n",
    "        return mapping[x]\n",
    "    except KeyError:\n",
    "        return -1\n",
    "\n",
    "df_comments['has_post'] = df_comments['post_id'].swifter.apply(func, args=(id_to_timestamp, ))"
   ]
  },
  {
   "cell_type": "code",
   "execution_count": null,
   "id": "recreational-usage",
   "metadata": {},
   "outputs": [],
   "source": [
    "ind = df_comments[df_comments['has_post'] == 1].index\n",
    "post_id = post_id[ind]"
   ]
  },
  {
   "cell_type": "code",
   "execution_count": null,
   "id": "fabulous-province",
   "metadata": {},
   "outputs": [],
   "source": [
    "ind = df_comments[df_comments['has_post'] == -1].index\n",
    "df_comments.drop(ind, inplace=True)"
   ]
  },
  {
   "cell_type": "code",
   "execution_count": null,
   "id": "assisted-skiing",
   "metadata": {},
   "outputs": [],
   "source": [
    "df_comments['post_id'] = post_id"
   ]
  },
  {
   "cell_type": "code",
   "execution_count": null,
   "id": "indoor-implementation",
   "metadata": {},
   "outputs": [],
   "source": [
    "del df_comments['has_post']"
   ]
  },
  {
   "cell_type": "code",
   "execution_count": null,
   "id": "strategic-story",
   "metadata": {},
   "outputs": [],
   "source": [
    "df_comments.reset_index(inplace=True)\n",
    "df_posts.reset_index(inplace=True)"
   ]
  },
  {
   "cell_type": "code",
   "execution_count": null,
   "id": "everyday-clarity",
   "metadata": {},
   "outputs": [],
   "source": [
    "del df_comments['index']"
   ]
  },
  {
   "cell_type": "code",
   "execution_count": null,
   "id": "protecting-section",
   "metadata": {},
   "outputs": [],
   "source": [
    "del df_posts['index']"
   ]
  },
  {
   "cell_type": "code",
   "execution_count": null,
   "id": "danish-terrain",
   "metadata": {},
   "outputs": [],
   "source": [
    "del df_comments['subreddit']\n",
    "del df_posts['subreddit']"
   ]
  },
  {
   "cell_type": "code",
   "execution_count": null,
   "id": "governmental-techno",
   "metadata": {},
   "outputs": [],
   "source": [
    "print(timestamp_to_utc(df_comments['timestamp'].max()))"
   ]
  },
  {
   "cell_type": "code",
   "execution_count": null,
   "id": "preceding-anxiety",
   "metadata": {},
   "outputs": [],
   "source": [
    "print(timestamp_to_utc(df_comments['timestamp'].min()))"
   ]
  },
  {
   "cell_type": "code",
   "execution_count": null,
   "id": "genetic-invasion",
   "metadata": {},
   "outputs": [],
   "source": [
    "df_comments.sort_values(by=['timestamp'], inplace=True)"
   ]
  },
  {
   "cell_type": "code",
   "execution_count": null,
   "id": "breathing-snapshot",
   "metadata": {},
   "outputs": [],
   "source": [
    "df_posts.sort_values(by=['timestamp'], inplace=True)"
   ]
  },
  {
   "cell_type": "code",
   "execution_count": null,
   "id": "surface-territory",
   "metadata": {},
   "outputs": [],
   "source": [
    "# df_comments.to_csv('askreddit_comments.csv', encoding='utf-8', index=False)"
   ]
  },
  {
   "cell_type": "code",
   "execution_count": null,
   "id": "monthly-works",
   "metadata": {},
   "outputs": [],
   "source": [
    "# df_posts.to_csv('askreddit_posts.csv', encoding='utf-8', index=False)"
   ]
  },
  {
   "cell_type": "code",
   "execution_count": null,
   "id": "phantom-paintball",
   "metadata": {},
   "outputs": [],
   "source": []
  }
 ],
 "metadata": {
  "kernelspec": {
   "display_name": "Python 3 (ipykernel)",
   "language": "python",
   "name": "python3"
  },
  "language_info": {
   "codemirror_mode": {
    "name": "ipython",
    "version": 3
   },
   "file_extension": ".py",
   "mimetype": "text/x-python",
   "name": "python",
   "nbconvert_exporter": "python",
   "pygments_lexer": "ipython3",
   "version": "3.8.7"
  }
 },
 "nbformat": 4,
 "nbformat_minor": 5
}
