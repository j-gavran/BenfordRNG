{
 "cells": [
  {
   "cell_type": "code",
   "execution_count": null,
   "id": "digital-surname",
   "metadata": {},
   "outputs": [],
   "source": [
    "import numpy as np\n",
    "import matplotlib.pyplot as plt\n",
    "\n",
    "from konstante import get_constants\n",
    "\n",
    "from benford_helper_functions import benford, get_first_digit, check_benford_scaling, normalize"
   ]
  },
  {
   "cell_type": "code",
   "execution_count": null,
   "id": "seasonal-greek",
   "metadata": {},
   "outputs": [],
   "source": [
    "import sys\n",
    "\n",
    "sys.path.append('../..')\n",
    "from plotting.matplotlib_setup import configure_latex, savefig, set_size_decorator, savefig\n",
    "\n",
    "tex_dir, images_dir = 'porocilo/main.tex', 'porocilo/images'\n",
    "\n",
    "configure_latex(style=['science', 'notebook'], global_save_path=images_dir)\n",
    "\n",
    "%config InlineBackend.figure_format = 'pdf'"
   ]
  },
  {
   "cell_type": "code",
   "execution_count": null,
   "id": "scheduled-excellence",
   "metadata": {},
   "outputs": [],
   "source": [
    "consts = get_constants()"
   ]
  },
  {
   "cell_type": "code",
   "execution_count": null,
   "id": "national-jamaica",
   "metadata": {},
   "outputs": [],
   "source": [
    "first_digits = get_first_digit(consts)"
   ]
  },
  {
   "cell_type": "code",
   "execution_count": null,
   "id": "exempt-exercise",
   "metadata": {},
   "outputs": [],
   "source": [
    "bins, n = np.unique(first_digits, return_counts=True)\n",
    "n = n / np.sum(n)\n",
    "\n",
    "ben = np.vectorize(benford)(np.arange(1, 10, 1))\n",
    "ben = ben / np.sum(ben)\n",
    "\n",
    "fig, ax = set_size_decorator(plt.subplots, fraction=0.5, ratio='4:3')(1, 1)\n",
    "\n",
    "ax.bar(bins, n, align='center', alpha=1, color='C0')\n",
    "\n",
    "ax.plot(bins, n, '-o', c='C1', lw=1, ms=3, label='podatki')\n",
    "ax.plot(bins, ben, '-o', c='C2', lw=1, ms=3, label='Benford')\n",
    "\n",
    "ax.set_xticks(bins)\n",
    "ax.set_xticklabels(bins)\n",
    "ax.minorticks_off()\n",
    "\n",
    "ax.set_xlabel('prva števka')\n",
    "ax.set_ylabel('frekvenca')\n",
    "\n",
    "ax.legend()\n",
    "\n",
    "# savefig('benford_konstante_prva_stevka', tight_layout=False)\n",
    "plt.show()"
   ]
  },
  {
   "cell_type": "code",
   "execution_count": null,
   "id": "unlimited-breach",
   "metadata": {},
   "outputs": [],
   "source": [
    "fig, ax = set_size_decorator(plt.subplots, fraction=0.5, ratio='4:3')(1, 1)\n",
    "\n",
    "x = np.log10(np.abs(consts))\n",
    "\n",
    "ax.hist(x, bins=20, histtype='step', lw=1)\n",
    "\n",
    "ax.set_xlabel(r'$\\log_{10}$$|$konstanta$|$')\n",
    "ax.set_ylabel('$N$')\n",
    "\n",
    "# savefig('benford_konstante_log', tight_layout=False)\n",
    "plt.show()"
   ]
  },
  {
   "cell_type": "code",
   "execution_count": null,
   "id": "finite-excerpt",
   "metadata": {},
   "outputs": [],
   "source": [
    "fig, ax = set_size_decorator(plt.subplots, fraction=0.5, ratio='4:3')(1, 1)\n",
    "\n",
    "fracs = np.log10(np.abs(consts)) % 1\n",
    "\n",
    "ax.hist(fracs, bins=18, histtype='step', lw=1)\n",
    "\n",
    "ax.set_xlabel(r'neceli del $\\log_{10}$$|$konstanta$|$')\n",
    "ax.set_ylabel('$N$')\n",
    "\n",
    "# savefig('benford_konstante_neceli', tight_layout=False)\n",
    "plt.show()"
   ]
  },
  {
   "cell_type": "code",
   "execution_count": null,
   "id": "concerned-latvia",
   "metadata": {},
   "outputs": [],
   "source": [
    "ones = check_benford_scaling(consts, f=1.01)\n",
    "\n",
    "plt.plot(range(len(ones)), ones / len(consts))"
   ]
  },
  {
   "cell_type": "code",
   "execution_count": null,
   "id": "plastic-chase",
   "metadata": {
    "tags": []
   },
   "outputs": [],
   "source": [
    "x = np.log10(np.abs(consts))\n",
    "pdf, bins = np.histogram(x, bins=30, density=True)\n",
    "plt.close()\n",
    "bins = bins[1:]\n",
    "\n",
    "plt.plot(bins, pdf, '-o', ms=4, lw=1)"
   ]
  },
  {
   "cell_type": "code",
   "execution_count": null,
   "id": "binding-lover",
   "metadata": {},
   "outputs": [],
   "source": [
    "from benford_helper_functions import make_sampling_function"
   ]
  },
  {
   "cell_type": "code",
   "execution_count": null,
   "id": "geological-sword",
   "metadata": {
    "tags": []
   },
   "outputs": [],
   "source": [
    "sf = make_sampling_function(bins, -80, 80)"
   ]
  },
  {
   "cell_type": "code",
   "execution_count": null,
   "id": "green-surgery",
   "metadata": {},
   "outputs": [],
   "source": [
    "plt.plot(bins, pdf * sf, '-o', ms=4, lw=1)"
   ]
  },
  {
   "cell_type": "code",
   "execution_count": null,
   "id": "consistent-indonesia",
   "metadata": {},
   "outputs": [],
   "source": [
    "from benford_helper_functions import shift_multiply_integrate"
   ]
  },
  {
   "cell_type": "code",
   "execution_count": null,
   "id": "announced-challenge",
   "metadata": {},
   "outputs": [],
   "source": [
    "log_input = np.log10(np.abs(consts))\n",
    "\n",
    "ost = shift_multiply_integrate(log_input, f=1.01, n_shift=1000)"
   ]
  },
  {
   "cell_type": "code",
   "execution_count": null,
   "id": "variable-waters",
   "metadata": {},
   "outputs": [],
   "source": [
    "fig, ax = set_size_decorator(plt.subplots, fraction=0.5, ratio='4:3')(1, 1)\n",
    "\n",
    "m = np.mean(ost)\n",
    "ax.plot(range(len(ost)), ost, lw=0.8)\n",
    "ax.plot(range(len(ost)), [m]*len(ost), c='C3', lw=1, ls='--')\n",
    "ax.set_xlabel(r'$\\times 1.01$')\n",
    "ax.set_ylabel(r'frekvenca 1')\n",
    "# savefig('benford_konstante_freq_1')\n",
    "m"
   ]
  },
  {
   "cell_type": "code",
   "execution_count": null,
   "id": "corresponding-executive",
   "metadata": {},
   "outputs": [],
   "source": [
    "from scipy.stats import lognorm\n",
    "\n",
    "def lognormMu(x, mu, s):\n",
    "    \"\"\"https://stackoverflow.com/questions/66912677/scipy-stats-lognormal-distribution-obtain-pdf-with-given-lognormal-distribution\"\"\"\n",
    "    tempX = x / np.exp(mu)\n",
    "    return lognorm.pdf(tempX, s)\n",
    "\n",
    "x = np.logspace(0, 6, 10000)[1:]\n",
    "\n",
    "s = [0.5, 0.8, 1.2]\n",
    "lognorm_pdf1 = lognormMu(x, mu=7.1, s=s[0])\n",
    "lognorm_pdf2 = lognormMu(x, mu=7.1, s=s[1])\n",
    "lognorm_pdf3 = lognormMu(x, mu=7.1, s=s[2])"
   ]
  },
  {
   "cell_type": "code",
   "execution_count": null,
   "id": "powerful-garden",
   "metadata": {},
   "outputs": [],
   "source": [
    "fig, ax = set_size_decorator(plt.subplots, fraction=0.5, ratio='4:3')(1, 1)\n",
    "\n",
    "lognorm_pdf1 = normalize(lognorm_pdf1, np.log10(x))\n",
    "lognorm_pdf2 = normalize(lognorm_pdf2, np.log10(x))\n",
    "lognorm_pdf3 = normalize(lognorm_pdf3, np.log10(x))\n",
    "\n",
    "ax.plot(np.log10(x), lognorm_pdf1, lw=1, label=f'$\\sigma={s[0]}$')\n",
    "ax.plot(np.log10(x), lognorm_pdf2, lw=1, label=f'$\\sigma={s[1]}$')\n",
    "ax.plot(np.log10(x), lognorm_pdf3, lw=1, label=f'$\\sigma={s[2]}$')\n",
    "\n",
    "ax.set_xlabel(r'$\\log_{10}x$')\n",
    "ax.set_ylabel(r'$f_X(x)$')\n",
    "\n",
    "ax.legend()\n",
    "\n",
    "# savefig('lognormal_dist')"
   ]
  },
  {
   "cell_type": "code",
   "execution_count": null,
   "id": "unusual-platinum",
   "metadata": {},
   "outputs": [],
   "source": [
    "from benford_helper_functions import shift_multiply_integrate_pdf"
   ]
  },
  {
   "cell_type": "code",
   "execution_count": null,
   "id": "motivated-general",
   "metadata": {},
   "outputs": [],
   "source": [
    "ost = shift_multiply_integrate_pdf(np.log10(x), lognorm_pdf1, f=1.01, n_shift=1000)\n",
    "\n",
    "fig, ax = set_size_decorator(plt.subplots, fraction=0.5, ratio='4:3')(1, 1)\n",
    "\n",
    "m = np.mean(ost)\n",
    "ax.plot(range(len(ost)), ost, lw=0.5, c='C2')\n",
    "ax.plot(range(len(ost)), [m]*len(ost), c='C3', ls='--', lw=1)\n",
    "\n",
    "ax.set_xlabel(r'$\\times 1.01$')\n",
    "ax.set_ylabel(r'frekvenca 1')\n",
    "# savefig('benford_lognorm_freq_1_mu12')\n",
    "\n",
    "m"
   ]
  },
  {
   "cell_type": "code",
   "execution_count": null,
   "id": "third-facility",
   "metadata": {},
   "outputs": [],
   "source": []
  }
 ],
 "metadata": {
  "kernelspec": {
   "display_name": "Python 3 (ipykernel)",
   "language": "python",
   "name": "python3"
  },
  "language_info": {
   "codemirror_mode": {
    "name": "ipython",
    "version": 3
   },
   "file_extension": ".py",
   "mimetype": "text/x-python",
   "name": "python",
   "nbconvert_exporter": "python",
   "pygments_lexer": "ipython3",
   "version": "3.8.7"
  }
 },
 "nbformat": 4,
 "nbformat_minor": 5
}
