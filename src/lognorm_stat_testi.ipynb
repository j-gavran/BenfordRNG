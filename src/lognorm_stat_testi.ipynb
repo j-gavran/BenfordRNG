{
 "cells": [
  {
   "cell_type": "code",
   "execution_count": null,
   "id": "engaging-slide",
   "metadata": {},
   "outputs": [],
   "source": [
    "import numpy as np\n",
    "import matplotlib.pyplot as plt\n",
    "from scipy.stats import lognorm\n",
    "\n",
    "from benford_helper_functions import normalize, get_first_digit, benfords_test"
   ]
  },
  {
   "cell_type": "code",
   "execution_count": null,
   "id": "supported-hypothetical",
   "metadata": {},
   "outputs": [],
   "source": [
    "p = 1\n",
    "low, high = p * np.log(10), (p+1) * np.log(10)\n",
    "\n",
    "x_ = np.random.uniform(low=low, high=high, size=100000)\n",
    "x = np.exp(x_)\n",
    "\n",
    "np.unique(get_first_digit(x), return_counts=True)"
   ]
  },
  {
   "cell_type": "code",
   "execution_count": null,
   "id": "behind-register",
   "metadata": {},
   "outputs": [],
   "source": [
    "from stat_tests import chi2_test, ks_test"
   ]
  },
  {
   "cell_type": "code",
   "execution_count": null,
   "id": "hollow-favorite",
   "metadata": {},
   "outputs": [],
   "source": [
    "import sys\n",
    "\n",
    "sys.path.append('../..')\n",
    "from plotting.matplotlib_setup import configure_latex, savefig, set_size_decorator, savefig, thiner_border\n",
    "\n",
    "tex_dir, images_dir = 'porocilo/main.tex', 'porocilo/images'\n",
    "\n",
    "configure_latex(style=['science', 'notebook'], global_save_path=images_dir)\n",
    "\n",
    "%config InlineBackend.figure_format = 'pdf'"
   ]
  },
  {
   "cell_type": "code",
   "execution_count": null,
   "id": "racial-pickup",
   "metadata": {},
   "outputs": [],
   "source": [
    "def get_lognorm_pdf(x, mu, sigma):\n",
    "    return (1 / (x * sigma * np.sqrt(2 * np.pi))) * np.exp(-((np.log10(x) - mu)**2) / (2*sigma**2))\n",
    "\n",
    "def lognormMu(x, mu, s):\n",
    "    tempX = x / np.exp(mu)\n",
    "    return lognorm.pdf(tempX, s)"
   ]
  },
  {
   "cell_type": "code",
   "execution_count": null,
   "id": "technological-atlanta",
   "metadata": {},
   "outputs": [],
   "source": [
    "from scipy.stats import lognorm\n",
    "\n",
    "\n",
    "def lognorm_params(mode, stddev):\n",
    "    \"\"\"\n",
    "    Given the mode and std. dev. of the log-normal distribution, this function\n",
    "    returns the shape and scale parameters for scipy's parameterization of the\n",
    "    distribution.\n",
    "    \n",
    "    https://stackoverflow.com/questions/41464753/generate-random-numbers-from-lognormal-distribution-in-python\n",
    "    \"\"\"\n",
    "    p = np.poly1d([1, -1, 0, 0, -(stddev/mode)**2])\n",
    "    r = p.roots\n",
    "    sol = r[(r.imag == 0) & (r.real > 0)].real\n",
    "    shape = np.sqrt(np.log(sol))\n",
    "    scale = mode * sol\n",
    "    return shape, scale\n",
    "\n",
    "\n",
    "def lognorm_params_exact(mode, stddev):\n",
    "    a = stddev**2 / mode**2\n",
    "    x = 1/4*np.sqrt(-(16*(2/3)**(1/3)*a)/(np.sqrt(3)*np.sqrt(256*a**3+27*a**2)-9*a)**(1/3) +\n",
    "                    2*(2/3)**(2/3)*(np.sqrt(3)*np.sqrt(256*a**3+27*a**2)-9*a)**(1/3)+1) + \\\n",
    "        1/2*np.sqrt((4*(2/3)**(1/3)*a)/(np.sqrt(3)*np.sqrt(256*a**3+27*a**2)-9*a)**(1/3) -\n",
    "                    (np.sqrt(3)*np.sqrt(256*a**3+27*a**2)-9*a)**(1/3)/(2**(1/3)*3**(2/3)) +\n",
    "                    1/(2*np.sqrt(-(16*(2/3)**(1/3)*a)/(np.sqrt(3)*np.sqrt(256*a**3+27*a**2)-9*a)**(1/3) +\n",
    "                                 2*(2/3)**(2/3)*(np.sqrt(3)*np.sqrt(256*a**3+27*a**2)-9*a)**(1/3)+1))+1/2) + \\\n",
    "        1/4\n",
    "    shape = np.sqrt(np.log(x))\n",
    "    scale = mode * x\n",
    "    return shape, scale\n",
    "\n",
    "\n",
    "N = 10**6\n",
    "mu = 10**3\n",
    "\n",
    "# sigmas = np.array([100, 1000, 10000, 100000]) # -> [0.5, 0.8, 1.2]\n",
    "sigmas = np.logspace(2, 12, 100)\n",
    "\n",
    "lognorm_dists, lognorm_sigmas = [], []\n",
    "for s in sigmas:\n",
    "    sigma, scale = lognorm_params(mu, s)\n",
    "    lognorm_sigmas.append(sigma[0])\n",
    "    \n",
    "    np.random.seed(1)\n",
    "    lognorm_rng = lognorm.rvs(sigma, 0, scale, size=N)\n",
    "    \n",
    "    lognorm_dists.append(lognorm_rng)"
   ]
  },
  {
   "cell_type": "code",
   "execution_count": null,
   "id": "favorite-conversation",
   "metadata": {},
   "outputs": [],
   "source": [
    "f1s = []\n",
    "\n",
    "for i, lognorm in enumerate(lognorm_dists):\n",
    "    bins = np.logspace(np.floor(np.log10(lognorm.min())), \n",
    "                       np.floor(np.log10(lognorm.max())) + 1, \n",
    "                       len(lognorm))\n",
    "    \n",
    "    pdf, _ = np.histogram(lognorm, bins=bins)\n",
    "    \n",
    "    bins = bins[:-1]\n",
    "    bins = np.log10(bins)\n",
    "    pdf = normalize(pdf, bins)\n",
    "    \n",
    "    f1 = benfords_test(pdf, bins)\n",
    "    f1s.append(f1)\n",
    "    \n",
    "    first_digits = get_first_digit(lognorm)\n",
    "    _, n = np.unique(first_digits, return_counts=True)\n",
    "    n = n / np.sum(n)\n",
    "    \n",
    "    print(f'delez 1: {n[0]:.4f}, f1: {f1:.3e}, normal sigma: {sigmas[i]:.2f}, lognorm sigma: {lognorm_sigmas[i]:.2f}')"
   ]
  },
  {
   "cell_type": "markdown",
   "id": "inner-playlist",
   "metadata": {},
   "source": [
    "(Uniform distribution characterization). A sequence of real numbers (respectively, a Borel measurable function, a random variable, a Borel probability measure) is Benford if and only if the decimal logarithm of its absolute\n",
    "value is uniformly distributed modulo 1."
   ]
  },
  {
   "cell_type": "code",
   "execution_count": null,
   "id": "sunrise-happening",
   "metadata": {},
   "outputs": [],
   "source": [
    "sigmas = np.sqrt(np.log10(1 + sigmas / mu**2))"
   ]
  },
  {
   "cell_type": "code",
   "execution_count": null,
   "id": "municipal-polyester",
   "metadata": {},
   "outputs": [],
   "source": [
    "lognorm_fracs = []\n",
    "\n",
    "for dist in lognorm_dists:\n",
    "    # lognorm_fracs.append(get_number_fracs_math(np.log10(dist[dist > 0])))\n",
    "    lognorm_fracs.append(np.log10(dist) % 1)"
   ]
  },
  {
   "cell_type": "code",
   "execution_count": null,
   "id": "injured-tower",
   "metadata": {
    "tags": []
   },
   "outputs": [],
   "source": [
    "lognorm_fracs_hists = []\n",
    "\n",
    "for i, fracs in enumerate(lognorm_fracs):\n",
    "    n, bins, _ = plt.hist(fracs, bins=30, density=False, histtype='step')\n",
    "    lognorm_fracs_hists.append([n, bins[1:]])\n",
    "    \n",
    "    plt.close()"
   ]
  },
  {
   "cell_type": "markdown",
   "id": "allied-matrix",
   "metadata": {},
   "source": [
    "# Test $\\chi^2$"
   ]
  },
  {
   "cell_type": "code",
   "execution_count": null,
   "id": "suited-bulletin",
   "metadata": {},
   "outputs": [],
   "source": [
    "# chi2_test(np.array(lognorm_fracs), n_bins=30)"
   ]
  },
  {
   "cell_type": "code",
   "execution_count": null,
   "id": "valued-stake",
   "metadata": {},
   "outputs": [],
   "source": [
    "from scipy.stats import chisquare\n",
    "from scipy.stats import chi2"
   ]
  },
  {
   "cell_type": "code",
   "execution_count": null,
   "id": "alone-balloon",
   "metadata": {},
   "outputs": [],
   "source": [
    "chi2_test = []\n",
    "\n",
    "N, n_bins = np.sum(lognorm_fracs_hists[0][0]), len(lognorm_fracs_hists[0][1])\n",
    "\n",
    "for hist in lognorm_fracs_hists:\n",
    "    chi2_ = chisquare(hist[0], f_exp=N/n_bins)\n",
    "    chi2_test.append([chi2_.statistic, chi2_.pvalue])"
   ]
  },
  {
   "cell_type": "code",
   "execution_count": null,
   "id": "immune-toolbox",
   "metadata": {},
   "outputs": [],
   "source": [
    "for c in chi2_test:\n",
    "    print(f'{c[0]:.3f}, {c[1]:.3f}')"
   ]
  },
  {
   "cell_type": "code",
   "execution_count": null,
   "id": "bridal-banana",
   "metadata": {},
   "outputs": [],
   "source": [
    "alpha = 0.01 # stopnja pomembnosti\n",
    "\n",
    "#                         stopnja zaupanja\n",
    "critical_value_chi2 = chi2.ppf(1 - alpha, n_bins)\n",
    "critical_value_chi2"
   ]
  },
  {
   "cell_type": "markdown",
   "id": "sticky-astronomy",
   "metadata": {},
   "source": [
    "# Test Kolmogorov-Smirnova"
   ]
  },
  {
   "cell_type": "code",
   "execution_count": null,
   "id": "duplicate-pittsburgh",
   "metadata": {},
   "outputs": [],
   "source": [
    "ks_test(np.array(lognorm_fracs))"
   ]
  },
  {
   "cell_type": "code",
   "execution_count": null,
   "id": "alive-pacific",
   "metadata": {},
   "outputs": [],
   "source": [
    "from scipy.stats import kstest\n",
    "from scipy.stats import kstwo"
   ]
  },
  {
   "cell_type": "code",
   "execution_count": null,
   "id": "antique-theme",
   "metadata": {},
   "outputs": [],
   "source": [
    "ks_test = []\n",
    "\n",
    "for dist in lognorm_fracs:\n",
    "    ks = kstest(dist, cdf='uniform', alternative='two-sided', args=(0, 1))\n",
    "    stat, p = ks.statistic, ks.pvalue\n",
    "    ks_test.append([stat, p])\n",
    "    print(f'{stat:.2e}, {p:.3f}')"
   ]
  },
  {
   "cell_type": "code",
   "execution_count": null,
   "id": "caring-patrick",
   "metadata": {},
   "outputs": [],
   "source": [
    "critical_value_ks = kstwo.ppf(1 - alpha, len(lognorm_fracs[0]))\n",
    "f'{critical_value_ks:.2e}'"
   ]
  },
  {
   "cell_type": "code",
   "execution_count": null,
   "id": "delayed-mother",
   "metadata": {},
   "outputs": [],
   "source": [
    "if False:\n",
    "    fig, axs = set_size_decorator(plt.subplots, fraction=1, ratio='4:3')(2, 2)\n",
    "    axs = axs.flatten()\n",
    "\n",
    "    for i, fracs in enumerate(lognorm_fracs):\n",
    "        axs[i].hist(fracs, bins=30, density=False, histtype='step')\n",
    "        lognorm_fracs_hists.append([n, bins[1:]])\n",
    "\n",
    "        # plt.close()\n",
    "\n",
    "        axs[i].ticklabel_format(style='sci', axis='y', scilimits=(0, 0))\n",
    "\n",
    "        an1 = f'$\\sigma$ = {sigmas[i]:.2f}, $\\sigma_X$ = {lognorm_sigmas[i]:.2f}'\n",
    "        an2 = f'\\n$\\chi^2$ = {chi2_test[i][0]:.2f}, $d$ = {ks_test[i][0]:.2e}'\n",
    "        an3 = f'\\n$\\chi^2_*$ = {critical_value_chi2:.2f}, $d_*$ = {critical_value_ks:.2e}'\n",
    "        an4 = r' pri $\\alpha$ = {}'.format(alpha)\n",
    "\n",
    "        if i == 3:\n",
    "            an = an1 + an2 + an3 + an4\n",
    "        else:\n",
    "            an = an1 + an2\n",
    "\n",
    "        axs[i].annotate(an, xy=(0.1, 0.1), xycoords='axes fraction', fontsize=8)\n",
    "\n",
    "    savefig('lognorm_uniform_hists')"
   ]
  },
  {
   "cell_type": "code",
   "execution_count": null,
   "id": "balanced-cannon",
   "metadata": {},
   "outputs": [],
   "source": [
    "fig, ax = set_size_decorator(plt.subplots, fraction=0.5, ratio='4:3')(1, 1)\n",
    "\n",
    "ax.set_yscale('log')\n",
    "\n",
    "x = lognorm_sigmas\n",
    "\n",
    "y = [i[0] for i in chi2_test]\n",
    "ax.scatter(x, y, s=5)\n",
    "ax.plot(x, y, lw=1)\n",
    "\n",
    "ax.set_xlabel('$\\sigma_X$')\n",
    "\n",
    "ax.set_ylabel('$\\chi^2$', c='C0')\n",
    "ax.tick_params(axis='y', labelcolor='C0')\n",
    "\n",
    "ax.set_ylim([0.9e1, 1e7])\n",
    "\n",
    "ax2 = ax.twinx()\n",
    "\n",
    "ax2.set_yscale('log')\n",
    "ax2.minorticks_off()\n",
    "ax2 = thiner_border(ax2)\n",
    "\n",
    "y2 = [i[0] for i in ks_test]\n",
    "ax2.scatter(x, y2, s=5, c='C2')\n",
    "ax2.plot(x, y2, lw=1, c='C2')\n",
    "\n",
    "ax2.set_ylabel('$d$', c='C2')\n",
    "ax2.tick_params(axis='y', labelcolor='C2')\n",
    "\n",
    "x3 = sigmas\n",
    "\n",
    "ax3 = ax.twiny()\n",
    "ax3 = thiner_border(ax3)\n",
    "# ax3.set_xscale('log')\n",
    "\n",
    "ax3.plot(x3, y, lw=0)\n",
    "\n",
    "ax3.set_xlabel('$\\sigma$')\n",
    "\n",
    "ax.grid(zorder=0, alpha=0.5)\n",
    "\n",
    "# savefig('stat_lognorm_tests', tight_layout=False)"
   ]
  },
  {
   "cell_type": "code",
   "execution_count": null,
   "id": "personalized-outreach",
   "metadata": {},
   "outputs": [],
   "source": [
    "chi2_lst = np.array([i[0] for i in chi2_test])\n",
    "ks_lst = np.array([i[0] for i in ks_test])"
   ]
  },
  {
   "cell_type": "code",
   "execution_count": null,
   "id": "informed-thailand",
   "metadata": {},
   "outputs": [],
   "source": [
    "f1s = np.array(f1s)"
   ]
  },
  {
   "cell_type": "code",
   "execution_count": null,
   "id": "intimate-spice",
   "metadata": {},
   "outputs": [],
   "source": [
    "idx = np.argsort(f1s)\n",
    "\n",
    "fig, ax = set_size_decorator(plt.subplots, fraction=0.5, ratio='4:3')(1, 1)\n",
    "\n",
    "ax.set_xscale('log')\n",
    "ax.set_yscale('log')\n",
    "ax.scatter(f1s[idx], chi2_lst[idx], s=3, label='$\\chi^2$')\n",
    "ax.scatter(f1s[idx], ks_lst[idx], s=3, label='KS', c='C2')\n",
    "\n",
    "ax.set_ylabel('test')\n",
    "ax.set_xlabel('$f_1$')\n",
    "\n",
    "ax.legend()\n",
    "\n",
    "# savefig('test_lognorm_f1_chi2_KS')"
   ]
  },
  {
   "cell_type": "code",
   "execution_count": null,
   "id": "sustained-cleveland",
   "metadata": {},
   "outputs": [],
   "source": []
  }
 ],
 "metadata": {
  "kernelspec": {
   "display_name": "Python 3 (ipykernel)",
   "language": "python",
   "name": "python3"
  },
  "language_info": {
   "codemirror_mode": {
    "name": "ipython",
    "version": 3
   },
   "file_extension": ".py",
   "mimetype": "text/x-python",
   "name": "python",
   "nbconvert_exporter": "python",
   "pygments_lexer": "ipython3",
   "version": "3.8.7"
  }
 },
 "nbformat": 4,
 "nbformat_minor": 5
}
