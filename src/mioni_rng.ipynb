{
 "cells": [
  {
   "cell_type": "code",
   "execution_count": null,
   "id": "conceptual-pointer",
   "metadata": {},
   "outputs": [],
   "source": [
    "import numpy as np\n",
    "import pandas as pd\n",
    "from mioni_helper import load_mioni_data\n",
    "from random_helper_functions import get_bitstring"
   ]
  },
  {
   "cell_type": "code",
   "execution_count": null,
   "id": "happy-kelly",
   "metadata": {},
   "outputs": [],
   "source": [
    "import sys\n",
    "\n",
    "import matplotlib.pyplot as plt\n",
    "\n",
    "sys.path.append('../..')\n",
    "from plotting.matplotlib_setup import configure_latex, savefig, set_size_decorator, savefig, thiner_border\n",
    "\n",
    "tex_dir, images_dir = 'porocilo/main.tex', 'porocilo/images'\n",
    "\n",
    "configure_latex(style=['science', 'notebook'], global_save_path=images_dir)\n",
    "\n",
    "%config InlineBackend.figure_format = 'pdf'"
   ]
  },
  {
   "cell_type": "markdown",
   "id": "absolute-tragedy",
   "metadata": {},
   "source": [
    "# Meritve"
   ]
  },
  {
   "cell_type": "code",
   "execution_count": null,
   "id": "unlike-flood",
   "metadata": {},
   "outputs": [],
   "source": [
    "dfs = load_mioni_data()"
   ]
  },
  {
   "cell_type": "code",
   "execution_count": null,
   "id": "expired-scope",
   "metadata": {},
   "outputs": [],
   "source": [
    "for df in dfs:\n",
    "    ind = df[np.abs(df['N']) < 1].index\n",
    "    df.drop(ind, inplace=True)\n",
    "    \n",
    "    ind = df[df['us'] < 0].index\n",
    "    df.drop(ind, inplace=True)"
   ]
  },
  {
   "cell_type": "code",
   "execution_count": null,
   "id": "fourth-paintball",
   "metadata": {},
   "outputs": [],
   "source": [
    "plt.yscale('log')\n",
    "\n",
    "for df in dfs:\n",
    "    plt.plot(df['us'], np.abs(df['N']))"
   ]
  },
  {
   "cell_type": "code",
   "execution_count": null,
   "id": "laughing-mathematics",
   "metadata": {},
   "outputs": [],
   "source": [
    "dfs = [dfs[0], dfs[2]]"
   ]
  },
  {
   "cell_type": "code",
   "execution_count": null,
   "id": "committed-retail",
   "metadata": {},
   "outputs": [],
   "source": [
    "dfs[0] = dfs[0][(len(dfs[0]) - len(dfs[1])):]"
   ]
  },
  {
   "cell_type": "code",
   "execution_count": null,
   "id": "naughty-drunk",
   "metadata": {},
   "outputs": [],
   "source": [
    "fig, ax = set_size_decorator(plt.subplots, fraction=0.5, ratio='4:3')(1, 1)\n",
    "\n",
    "ax.set_yscale('log')\n",
    "\n",
    "for df in dfs:\n",
    "    ax.plot(df['us'], np.abs(df['N']), lw=1)\n",
    "\n",
    "ax.set_xlabel(r'$t$ [$\\mu$s]')\n",
    "ax.set_ylabel('$N$')\n",
    "\n",
    "# savefig('mioni_meritve')"
   ]
  },
  {
   "cell_type": "markdown",
   "id": "pointed-trail",
   "metadata": {},
   "source": [
    "# Noise"
   ]
  },
  {
   "cell_type": "code",
   "execution_count": null,
   "id": "growing-trace",
   "metadata": {},
   "outputs": [],
   "source": [
    "from scipy.optimize import curve_fit\n",
    "\n",
    "def lin_func(t, a, b):\n",
    "    return a * t + b"
   ]
  },
  {
   "cell_type": "code",
   "execution_count": null,
   "id": "coupled-designation",
   "metadata": {},
   "outputs": [],
   "source": [
    "start_fit, end_fit = 80, -1\n",
    "\n",
    "ks = []\n",
    "\n",
    "for df in dfs:\n",
    "    xdata = df['us'].values[start_fit:end_fit]\n",
    "    ydata = np.log(df['N'].values[start_fit:end_fit])\n",
    "\n",
    "    popt, pcov = curve_fit(lin_func, xdata, ydata)\n",
    "\n",
    "    k, k_err = popt[0], np.sqrt(np.diag(pcov))[0]\n",
    "    ks.append(popt)"
   ]
  },
  {
   "cell_type": "code",
   "execution_count": null,
   "id": "ceramic-marking",
   "metadata": {},
   "outputs": [],
   "source": [
    "fig, ax = set_size_decorator(plt.subplots, fraction=0.5, ratio='4:3')(1, 1)\n",
    "\n",
    "cc = 0\n",
    "cs = [['C0', 'C2'], ['C1', 'C3']]\n",
    "for k, df in zip(ks, dfs):\n",
    "    xdata = df['us'].values[start_fit:end_fit]\n",
    "    ydata = np.log(df['N'].values[start_fit:end_fit])\n",
    "    \n",
    "    ax.plot(xdata, ydata, lw=1, c=cs[cc][0])\n",
    "    ax.plot(xdata, lin_func(xdata, *k), lw=1, c=cs[cc][1])\n",
    "    \n",
    "    cc += 1\n",
    "\n",
    "ax.set_xlabel(r'$t$ [$\\mu$s]')\n",
    "ax.set_ylabel('log$N$')\n",
    "    \n",
    "# savefig('mioni_fit')"
   ]
  },
  {
   "cell_type": "code",
   "execution_count": null,
   "id": "alternative-capacity",
   "metadata": {},
   "outputs": [],
   "source": [
    "noise = []\n",
    "ys = []\n",
    "\n",
    "for k, df in zip(ks, dfs):\n",
    "    xdata = df['us'].values[start_fit:end_fit]\n",
    "    ydata = np.log(df['N'].values[start_fit:end_fit])\n",
    "\n",
    "    n = ydata - lin_func(xdata, *k)\n",
    "    \n",
    "    noise.append(n)"
   ]
  },
  {
   "cell_type": "code",
   "execution_count": null,
   "id": "dental-frost",
   "metadata": {},
   "outputs": [],
   "source": [
    "for i, n in enumerate(noise):\n",
    "    fig, ax = set_size_decorator(plt.subplots, fraction=0.5, ratio='4:3')(1, 1)\n",
    "    # plt.plot(range(len(n)), n)\n",
    "    ax.hist(n, bins=int(np.sqrt(len(n))), histtype='step', lw=1, color=f'C{i}')\n",
    "    ax.set_xlabel(r'šum')\n",
    "    ax.set_ylabel('$N$')\n",
    "    # savefig(f'mioni_sum_{i}')"
   ]
  },
  {
   "cell_type": "markdown",
   "id": "identical-adjustment",
   "metadata": {},
   "source": [
    "# ECDF: does not work!!!"
   ]
  },
  {
   "cell_type": "markdown",
   "id": "nuclear-bubble",
   "metadata": {},
   "source": [
    "https://stackoverflow.com/questions/24788200/calculate-the-cumulative-distribution-function-cdf-in-python  \n",
    "https://en.wikipedia.org/wiki/Probability_integral_transform"
   ]
  },
  {
   "cell_type": "code",
   "execution_count": null,
   "id": "isolated-basis",
   "metadata": {},
   "outputs": [],
   "source": [
    "from statsmodels.distributions.empirical_distribution import ECDF\n",
    "\n",
    "ecdf = ECDF(noise[0])\n",
    "x, y = ecdf.x, ecdf.y"
   ]
  },
  {
   "cell_type": "code",
   "execution_count": null,
   "id": "documentary-cylinder",
   "metadata": {},
   "outputs": [],
   "source": [
    "plt.plot(x, y)"
   ]
  },
  {
   "cell_type": "code",
   "execution_count": null,
   "id": "perfect-blocking",
   "metadata": {},
   "outputs": [],
   "source": [
    "from scipy.stats import norm"
   ]
  },
  {
   "cell_type": "code",
   "execution_count": null,
   "id": "close-count",
   "metadata": {},
   "outputs": [],
   "source": [
    "def ecdf(a):\n",
    "    x, counts = np.unique(a, return_counts=True)\n",
    "    cusum = np.cumsum(counts)\n",
    "    \n",
    "    inv = np.argsort(a)\n",
    "    \n",
    "    cusum = cusum / cusum[-1]\n",
    "    \n",
    "    return x, cusum, inv"
   ]
  },
  {
   "cell_type": "code",
   "execution_count": null,
   "id": "innovative-reflection",
   "metadata": {},
   "outputs": [],
   "source": [
    "x1, y1, inv1 = ecdf(noise[0])\n",
    "x2, y2, inv2 = ecdf(noise[1])"
   ]
  },
  {
   "cell_type": "code",
   "execution_count": null,
   "id": "catholic-armenia",
   "metadata": {
    "tags": []
   },
   "outputs": [],
   "source": [
    "fig, ax = set_size_decorator(plt.subplots, fraction=0.5, ratio='4:3')(1, 1)\n",
    "\n",
    "ax.plot(x1, y1, lw=1)\n",
    "ax.plot(x2, y2, lw=1)\n",
    "ax.set_xlabel('šum')\n",
    "ax.set_ylabel('ECDF')\n",
    "# savefig('mioni_ecdf')"
   ]
  },
  {
   "cell_type": "code",
   "execution_count": null,
   "id": "bridal-costs",
   "metadata": {
    "tags": []
   },
   "outputs": [],
   "source": [
    "plt.hist(y1, bins=15, histtype='step')\n",
    "plt.hist(y2, bins=15, histtype='step')\n",
    "plt.show()"
   ]
  },
  {
   "cell_type": "code",
   "execution_count": null,
   "id": "specified-singapore",
   "metadata": {},
   "outputs": [],
   "source": [
    "from NIST_tests import RNG_test\n",
    "from random_helper_functions import float32_to_bin, split_to_arr, bin_str_to_matrix"
   ]
  },
  {
   "cell_type": "code",
   "execution_count": null,
   "id": "accomplished-binding",
   "metadata": {},
   "outputs": [],
   "source": [
    "from numba import njit\n",
    "\n",
    "@njit\n",
    "def binary_tree_walk(arr):\n",
    "    bits = np.zeros(len(arr)).astype(np.int16)\n",
    "    for i, a in enumerate(arr):\n",
    "        if a > 0.5:\n",
    "            bits[i] = 1\n",
    "    return bits"
   ]
  },
  {
   "cell_type": "code",
   "execution_count": null,
   "id": "filled-cooking",
   "metadata": {},
   "outputs": [],
   "source": [
    "rng1 = y1[inv1]\n",
    "rng2 = y2[inv2]\n",
    "\n",
    "rng = np.concatenate((rng1, rng2))\n",
    "rng = rng[rng != 1]"
   ]
  },
  {
   "cell_type": "code",
   "execution_count": null,
   "id": "operating-experiment",
   "metadata": {},
   "outputs": [],
   "source": [
    "bits = float32_to_bin(rng2, cut=9)\n",
    "bits = ''.join(bits)\n",
    "\n",
    "result1 = RNG_test(bits, short_df=True)\n",
    "result1"
   ]
  },
  {
   "cell_type": "code",
   "execution_count": null,
   "id": "amateur-brunei",
   "metadata": {},
   "outputs": [],
   "source": [
    "bits = binary_tree_walk(rng2).astype(str)\n",
    "bits = ''.join(bits)\n",
    "\n",
    "result2 = RNG_test(bits, short_df=True)\n",
    "result2"
   ]
  },
  {
   "cell_type": "markdown",
   "id": "individual-chicken",
   "metadata": {},
   "source": [
    "CDF ~ U(0, 1) => argsort / max(argsort) ~ U(0, 1) <-> argsort, linspace(0, 1)[argosrt] ~ U(0, 1)"
   ]
  },
  {
   "cell_type": "code",
   "execution_count": null,
   "id": "living-projection",
   "metadata": {},
   "outputs": [],
   "source": [
    "rngs = [rng1, rng2]\n",
    "\n",
    "res = []\n",
    "b = []\n",
    "for rng in rngs:\n",
    "    bits = get_bitstring(rng, length=32, cut=30)\n",
    "    bits = ''.join(bits)\n",
    "    b.append(bits)\n",
    "\n",
    "    test_res = RNG_test(bits, short_df=True)\n",
    "    res.append(test_res)\n",
    "\n",
    "    \n",
    "for rng in rngs:\n",
    "    bits = binary_tree_walk(rng).astype(str)\n",
    "    bits = ''.join(bits)\n",
    "    b.append(bits)\n",
    "\n",
    "    test_res = RNG_test(bits, short_df=True)\n",
    "    res.append(test_res)"
   ]
  },
  {
   "cell_type": "code",
   "execution_count": null,
   "id": "adult-shannon",
   "metadata": {},
   "outputs": [],
   "source": [
    "df = pd.concat([i for i in res])\n",
    "df.index = [f'$p_{i}$' for i in range(1, len(df)+1)]\n",
    "df.columns = [i + 1 for i in range(len(df.columns))]"
   ]
  },
  {
   "cell_type": "code",
   "execution_count": null,
   "id": "continental-sponsorship",
   "metadata": {},
   "outputs": [],
   "source": [
    "df"
   ]
  },
  {
   "cell_type": "code",
   "execution_count": null,
   "id": "smoking-parks",
   "metadata": {},
   "outputs": [],
   "source": [
    "fig, ax = set_size_decorator(plt.subplots, fraction=0.5, ratio='4:3')(1, 1)\n",
    "\n",
    "bits_arr = split_to_arr(b[0])\n",
    "m = bin_str_to_matrix(bits_arr)\n",
    "ax.matshow(m, cmap='Greys_r')\n",
    "ax.axis('off')\n",
    "# savefig('mioni_matrika_dobra', save_format='png', dpi=1000)"
   ]
  },
  {
   "cell_type": "markdown",
   "id": "important-lawrence",
   "metadata": {},
   "source": [
    "# Reverse Box–Muller transform"
   ]
  },
  {
   "cell_type": "code",
   "execution_count": null,
   "id": "demographic-hepatitis",
   "metadata": {},
   "outputs": [],
   "source": [
    "from scipy.optimize import curve_fit\n",
    "\n",
    "def gauss(x, a, b, c):\n",
    "    \"\"\"c...sigma, b...mu, a...normalization\"\"\"\n",
    "    return a * np.exp(-((x - b)**2) / (2 * c**2))\n",
    "\n",
    "\n",
    "def make_hist_and_fit(dist, func):\n",
    "    n_bins = int(np.sqrt(len(dist)))\n",
    "    y, x = np.histogram(dist, bins=n_bins)\n",
    "    x = x[1:]\n",
    "    \n",
    "    popt, pcov = curve_fit(gauss, x, y)\n",
    "    return popt, x, y\n",
    "    \n",
    "\n",
    "def get_Z(dist):\n",
    "    popt, _, _ = make_hist_and_fit(dist, gauss)\n",
    "\n",
    "    sigma, mu = popt[2], popt[1]\n",
    "    Z = (dist - mu) / sigma\n",
    "    \n",
    "    # Z_popt, _, _ = make_hist_and_fit(Z, gauss) # debug\n",
    "    \n",
    "    return Z"
   ]
  },
  {
   "cell_type": "code",
   "execution_count": null,
   "id": "moving-declaration",
   "metadata": {},
   "outputs": [],
   "source": [
    "import sympy as smp"
   ]
  },
  {
   "cell_type": "code",
   "execution_count": null,
   "id": "delayed-liechtenstein",
   "metadata": {},
   "outputs": [],
   "source": [
    "X1, X2, U1, U2 = smp.symbols('X1, X2, U_1, U_2', real=True)\n",
    "R, theta = smp.symbols(r'R, \\theta', real=True)"
   ]
  },
  {
   "cell_type": "code",
   "execution_count": null,
   "id": "vietnamese-memorabilia",
   "metadata": {},
   "outputs": [],
   "source": [
    "x1 = R * smp.cos(theta)\n",
    "x1"
   ]
  },
  {
   "cell_type": "code",
   "execution_count": null,
   "id": "australian-secondary",
   "metadata": {},
   "outputs": [],
   "source": [
    "x2 = R * smp.sin(theta)\n",
    "x2"
   ]
  },
  {
   "cell_type": "code",
   "execution_count": null,
   "id": "meaning-telling",
   "metadata": {},
   "outputs": [],
   "source": [
    "eq1 = smp.Eq(X1, x1)\n",
    "eq1"
   ]
  },
  {
   "cell_type": "code",
   "execution_count": null,
   "id": "silent-aspect",
   "metadata": {},
   "outputs": [],
   "source": [
    "eq2 = smp.Eq(X2, x2)\n",
    "eq2"
   ]
  },
  {
   "cell_type": "code",
   "execution_count": null,
   "id": "valuable-atlanta",
   "metadata": {},
   "outputs": [],
   "source": [
    "res = smp.solve([eq1, eq2], [R, theta], dict=True)\n",
    "res"
   ]
  },
  {
   "cell_type": "code",
   "execution_count": null,
   "id": "ahead-sigma",
   "metadata": {},
   "outputs": [],
   "source": [
    "R_, theta_ = res[1][R], res[1][theta]"
   ]
  },
  {
   "cell_type": "code",
   "execution_count": null,
   "id": "alone-vanilla",
   "metadata": {},
   "outputs": [],
   "source": [
    "R_"
   ]
  },
  {
   "cell_type": "code",
   "execution_count": null,
   "id": "protected-investigation",
   "metadata": {},
   "outputs": [],
   "source": [
    "theta_"
   ]
  },
  {
   "cell_type": "code",
   "execution_count": null,
   "id": "forced-stamp",
   "metadata": {},
   "outputs": [],
   "source": [
    "eq1 = smp.Eq(R, R_)\n",
    "eq1"
   ]
  },
  {
   "cell_type": "code",
   "execution_count": null,
   "id": "political-ordinary",
   "metadata": {},
   "outputs": [],
   "source": [
    "eq2 = smp.Eq(theta, theta_)\n",
    "eq2"
   ]
  },
  {
   "cell_type": "code",
   "execution_count": null,
   "id": "mental-prince",
   "metadata": {},
   "outputs": [],
   "source": [
    "eq1 = eq1.subs(R, smp.sqrt(-2 * smp.log(U1)))\n",
    "eq1"
   ]
  },
  {
   "cell_type": "code",
   "execution_count": null,
   "id": "smooth-laptop",
   "metadata": {},
   "outputs": [],
   "source": [
    "U1_sol = smp.solve(eq1, U1)[0] # U1\n",
    "U1_sol"
   ]
  },
  {
   "cell_type": "code",
   "execution_count": null,
   "id": "synthetic-testing",
   "metadata": {},
   "outputs": [],
   "source": [
    "eq2 = eq2.subs(theta, 2 * smp.pi * U2)\n",
    "eq2"
   ]
  },
  {
   "cell_type": "code",
   "execution_count": null,
   "id": "blank-imagination",
   "metadata": {},
   "outputs": [],
   "source": [
    "U2_sol = smp.solve(eq2, U2)[0] # U2\n",
    "U2_sol"
   ]
  },
  {
   "cell_type": "code",
   "execution_count": null,
   "id": "framed-method",
   "metadata": {},
   "outputs": [],
   "source": [
    "U1_f = smp.lambdify([X1, X2], U1_sol)\n",
    "U2_f = smp.lambdify([X1, X2], U2_sol)"
   ]
  },
  {
   "cell_type": "code",
   "execution_count": null,
   "id": "juvenile-boulder",
   "metadata": {},
   "outputs": [],
   "source": [
    "Z1, Z2 = get_Z(noise[0]), get_Z(noise[1])\n",
    "\n",
    "n1 = U1_f(Z1, Z2)\n",
    "n2 = U2_f(Z1, Z2)\n",
    "\n",
    "from scipy import signal\n",
    "\n",
    "n2 = n2 + 0.5"
   ]
  },
  {
   "cell_type": "code",
   "execution_count": null,
   "id": "romance-treatment",
   "metadata": {},
   "outputs": [],
   "source": [
    "from stat_tests import chi2_test, ks_test"
   ]
  },
  {
   "cell_type": "code",
   "execution_count": null,
   "id": "multiple-violence",
   "metadata": {},
   "outputs": [],
   "source": [
    "n = [n1, n2]\n",
    "\n",
    "tests = []\n",
    "for i in n:\n",
    "    tests.append([chi2_test(i, n_bins=20), ks_test(i)])"
   ]
  },
  {
   "cell_type": "code",
   "execution_count": null,
   "id": "monetary-headset",
   "metadata": {},
   "outputs": [],
   "source": [
    "tests"
   ]
  },
  {
   "cell_type": "code",
   "execution_count": null,
   "id": "higher-religious",
   "metadata": {},
   "outputs": [],
   "source": [
    "alpha = 0.01\n",
    "\n",
    "for c, i in enumerate(n):\n",
    "    fig, ax = set_size_decorator(plt.subplots, fraction=0.5, ratio='4:3')(1, 1)\n",
    "    \n",
    "    ax.hist(i, histtype='step', color=f'C{c+2}', bins=20)\n",
    "    \n",
    "    chi2 = tests[c][0][0][0][0]\n",
    "    ks = tests[c][1][0][0][0]\n",
    "    \n",
    "    critical_value_chi2 = tests[c][0][1]\n",
    "    critical_value_ks = tests[c][1][1][0]\n",
    "    \n",
    "    print(critical_value_ks, critical_value_chi2)\n",
    "    \n",
    "    an1 = f'\\n$\\chi^2$ = {chi2:.2f}, $d$ = {ks:.2e}'\n",
    "    an2 = f'\\n$\\chi^2_*$ = {critical_value_chi2:.2f}, $d_*$ = {critical_value_ks:.2e}'\n",
    "    an3 = r' pri $\\alpha$ = {}'.format(alpha)\n",
    "\n",
    "    if c == 1:\n",
    "        an = an1 + an2 + an3\n",
    "    else:\n",
    "        an = an1\n",
    "\n",
    "    ax.annotate(an, xy=(0.1, 0.1), xycoords='axes fraction', fontsize=6)\n",
    "\n",
    "    ax.set_xlabel('$X$')\n",
    "    ax.set_ylabel('$N$')\n",
    "    savefig(f'box_muller_uniform_{c}')"
   ]
  },
  {
   "cell_type": "code",
   "execution_count": null,
   "id": "closed-speaker",
   "metadata": {},
   "outputs": [],
   "source": [
    "# bits = get_bitstring(n1, length=32)\n",
    "# bits = ''.join(bits)\n",
    "bits = binary_tree_walk(n1).astype(str)\n",
    "bits = ''.join(bits)\n",
    "\n",
    "res1 = RNG_test(bits, short_df=True)"
   ]
  },
  {
   "cell_type": "code",
   "execution_count": null,
   "id": "generic-roberts",
   "metadata": {},
   "outputs": [],
   "source": [
    "# bits = get_bitstring(n2, length=32)\n",
    "# bits = ''.join(bits)\n",
    "bits = binary_tree_walk(n2).astype(str)\n",
    "bits = ''.join(bits)\n",
    "\n",
    "res2 = RNG_test(bits, short_df=True)"
   ]
  },
  {
   "cell_type": "code",
   "execution_count": null,
   "id": "unable-remove",
   "metadata": {},
   "outputs": [],
   "source": [
    "r = np.concatenate((n1, n2))\n",
    "\n",
    "# bits = get_bitstring(r, length=32)\n",
    "# bits = ''.join(bits)\n",
    "bits = binary_tree_walk(r).astype(str)\n",
    "bits = ''.join(bits)\n",
    "\n",
    "res3 = RNG_test(bits, short_df=True)"
   ]
  },
  {
   "cell_type": "code",
   "execution_count": null,
   "id": "immediate-range",
   "metadata": {},
   "outputs": [],
   "source": [
    "res = [res1, res2, res3]\n",
    "\n",
    "df = pd.concat([i for i in res])\n",
    "df.index = [f'$p_{i}$' for i in range(1, len(df)+1)]\n",
    "df.columns = [i + 1 for i in range(len(df.columns))]"
   ]
  },
  {
   "cell_type": "code",
   "execution_count": null,
   "id": "electronic-emperor",
   "metadata": {},
   "outputs": [],
   "source": [
    "df"
   ]
  },
  {
   "cell_type": "code",
   "execution_count": null,
   "id": "pointed-recipient",
   "metadata": {},
   "outputs": [],
   "source": [
    "# test\n",
    "a = np.random.normal(size=100000)\n",
    "b = np.random.normal(size=100000)\n",
    "\n",
    "Z1, Z2 = get_Z(a), get_Z(b)\n",
    "\n",
    "n1 = U1_f(Z1, Z2)\n",
    "n2 = U2_f(Z1, Z2)\n",
    "\n",
    "n2 = n2 + 0.5\n",
    "\n",
    "plt.hist(n1, bins=100)\n",
    "plt.show()"
   ]
  },
  {
   "cell_type": "code",
   "execution_count": null,
   "id": "latest-confusion",
   "metadata": {},
   "outputs": [],
   "source": [
    "print(ks_test(n1))\n",
    "print(chi2_test(n1, n_bins=100))"
   ]
  },
  {
   "cell_type": "code",
   "execution_count": null,
   "id": "considerable-africa",
   "metadata": {},
   "outputs": [],
   "source": [
    "plt.hist(n2, bins=100)\n",
    "plt.show()"
   ]
  },
  {
   "cell_type": "code",
   "execution_count": null,
   "id": "reflected-roots",
   "metadata": {},
   "outputs": [],
   "source": [
    "print(ks_test(n2))\n",
    "print(chi2_test(n2, n_bins=100))"
   ]
  },
  {
   "cell_type": "code",
   "execution_count": null,
   "id": "fixed-impossible",
   "metadata": {},
   "outputs": [],
   "source": [
    "bits = get_bitstring(n1, length=32)\n",
    "bits = ''.join(bits)\n",
    "\n",
    "RNG_test(bits)"
   ]
  },
  {
   "cell_type": "code",
   "execution_count": null,
   "id": "colored-citation",
   "metadata": {},
   "outputs": [],
   "source": [
    "bits = get_bitstring(n2, length=32)\n",
    "bits = ''.join(bits)\n",
    "\n",
    "RNG_test(bits)"
   ]
  },
  {
   "cell_type": "code",
   "execution_count": null,
   "id": "processed-garage",
   "metadata": {},
   "outputs": [],
   "source": []
  }
 ],
 "metadata": {
  "kernelspec": {
   "display_name": "Python 3 (ipykernel)",
   "language": "python",
   "name": "python3"
  },
  "language_info": {
   "codemirror_mode": {
    "name": "ipython",
    "version": 3
   },
   "file_extension": ".py",
   "mimetype": "text/x-python",
   "name": "python",
   "nbconvert_exporter": "python",
   "pygments_lexer": "ipython3",
   "version": "3.8.7"
  }
 },
 "nbformat": 4,
 "nbformat_minor": 5
}
