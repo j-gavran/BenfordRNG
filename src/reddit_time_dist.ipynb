{
 "cells": [
  {
   "cell_type": "code",
   "execution_count": null,
   "metadata": {},
   "outputs": [],
   "source": [
    "import sys\n",
    "\n",
    "sys.path.append('../..')\n",
    "from plotting.matplotlib_setup import configure_latex, savefig, set_size_decorator, savefig, thiner_border\n",
    "\n",
    "tex_dir, images_dir = 'porocilo/main.tex', 'porocilo/images'\n",
    "\n",
    "configure_latex(style=['science', 'notebook'], global_save_path=images_dir)\n",
    "\n",
    "%config InlineBackend.figure_format = 'pdf'"
   ]
  },
  {
   "cell_type": "code",
   "execution_count": null,
   "metadata": {},
   "outputs": [],
   "source": [
    "import os\n",
    "\n",
    "sys.path.insert(0, os.getcwd() + '/reddit_download')"
   ]
  },
  {
   "cell_type": "code",
   "execution_count": null,
   "metadata": {},
   "outputs": [],
   "source": [
    "from reddit_download.RWV.pushshift.time_utils import timestamp_to_utc\n",
    "\n",
    "from datetime import datetime\n",
    "import numpy as np\n",
    "import pandas as pd\n",
    "import matplotlib.pyplot as plt"
   ]
  },
  {
   "cell_type": "code",
   "execution_count": null,
   "metadata": {
    "tags": []
   },
   "outputs": [],
   "source": [
    "from reddit_download.RWV.pushshift.utils import build_df, apply_df_time_transforms\n",
    "\n",
    "df = build_df(content_type='comment', file_path=os.getcwd() + '/reddit_download')"
   ]
  },
  {
   "cell_type": "code",
   "execution_count": null,
   "metadata": {},
   "outputs": [],
   "source": [
    "df[\"datetime\"] = df[\"created_utc\"].apply(datetime.fromtimestamp)\n",
    "df = df.rename(columns={\"created_utc\": \"timestamp\"})"
   ]
  },
  {
   "cell_type": "code",
   "execution_count": null,
   "metadata": {},
   "outputs": [],
   "source": [
    "ind = df[df['author'] == '[deleted]'].index\n",
    "df.drop(ind, inplace=True)\n",
    "\n",
    "ind = df[df['author'] == 'AutoModerator'].index\n",
    "df.drop(ind, inplace=True)"
   ]
  },
  {
   "cell_type": "code",
   "execution_count": null,
   "metadata": {},
   "outputs": [],
   "source": [
    "def get_dates(df):\n",
    "    return df['datetime'].apply(lambda datetime: datetime.date())\n",
    "\n",
    "\n",
    "def post_time_dist(df, sub):\n",
    "    df_ = df[df['subreddit'] == sub].copy()\n",
    "    dates = get_dates(df_)\n",
    "    df_['date'] = dates\n",
    "    \n",
    "    post_time_dist_dct = {}\n",
    "    for d in dates.unique():\n",
    "        post_time_dist_dct[str(d)] = df_[df_['date'] == d]['time_in_day'].values\n",
    "    \n",
    "    return post_time_dist_dct\n",
    "\n",
    "\n",
    "# subreddits = df['subreddit'].unique()\n",
    "# post_time_dist_dct = post_time_dist(df, sub=subreddits[0])"
   ]
  },
  {
   "cell_type": "code",
   "execution_count": null,
   "metadata": {
    "tags": []
   },
   "outputs": [],
   "source": [
    "weekdays = {0:'monday', 1:'tuesday', 2:'wednesday', 3:'thursday', 4:'friday', 5:'saturday', 6:'sunday'}\n",
    "\n",
    "def day_hists(df):\n",
    "    unique_subs = df['subreddit'].unique()\n",
    "    results = []\n",
    "\n",
    "    for sub in unique_subs:\n",
    "        results.append(post_time_dist(df, sub))\n",
    "\n",
    "    unique_dates = get_dates(df).unique()\n",
    "\n",
    "    for d in unique_dates:\n",
    "        plt.title(f'{weekdays[d.weekday()]} {d}')\n",
    "        for i in range(len(unique_subs)):\n",
    "            try:\n",
    "                y = results[i][str(d)]\n",
    "                plt.hist(y, alpha=0.9, histtype='step', label=f'{unique_subs[i]}, sum={len(y)}')\n",
    "            except KeyError:\n",
    "                pass\n",
    "        \n",
    "        plt.legend()\n",
    "        plt.show()\n",
    "        \n",
    "# day_hists(df)"
   ]
  },
  {
   "cell_type": "code",
   "execution_count": null,
   "metadata": {
    "tags": []
   },
   "outputs": [],
   "source": [
    "def get_time_dist(df):\n",
    "    ys = []\n",
    "\n",
    "    for sub in df['subreddit'].unique():\n",
    "        df_ = df[df['subreddit'] == sub]\n",
    "        y = df_['time_in_day'].values\n",
    "        ys.append(y)\n",
    "        print(f\"{len(y)} {sub}\")\n",
    "    \n",
    "    flat_ys = []\n",
    "    for sublist in ys:\n",
    "        for item in sublist:\n",
    "            flat_ys.append(item)\n",
    "            \n",
    "    return ys, flat_ys"
   ]
  },
  {
   "cell_type": "code",
   "execution_count": null,
   "metadata": {
    "tags": []
   },
   "outputs": [],
   "source": [
    "from RWV.pushshift.time_utils import seconds_in_day\n",
    "df[\"time_in_day\"] = df[\"datetime\"].apply(seconds_in_day)\n",
    "\n",
    "ys, flat_ys = get_time_dist(df)\n",
    "\n",
    "plt.figure(figsize=(14, 10))\n",
    "for (sub, y) in zip(df['subreddit'].unique(), ys):\n",
    "    plt.hist(y, histtype='step', lw=2, density=True, bins=24, label=f'${sub}$')\n",
    "\n",
    "plt.hist(flat_ys, histtype='step', bins=24, density=True, lw=3, zorder=100, color='r')\n",
    "plt.legend(fontsize=12, loc='lower right')\n",
    "plt.show()"
   ]
  },
  {
   "cell_type": "code",
   "execution_count": null,
   "metadata": {},
   "outputs": [],
   "source": [
    "sub_lst = list(df['subreddit'].unique())"
   ]
  },
  {
   "cell_type": "code",
   "execution_count": null,
   "metadata": {},
   "outputs": [],
   "source": [
    "fig, ax = set_size_decorator(plt.subplots, fraction=0.5, ratio='4:3')(1, 1)\n",
    "\n",
    "ax.hist(flat_ys, histtype='step', bins=24, lw=1.2, zorder=10)\n",
    "\n",
    "x_ = np.arange(0, 86400, 1)\n",
    "x = x_[::len(x_)//4]\n",
    "x = np.append(x, x_[-1] + 1)\n",
    "\n",
    "ax.set_xticks(x)\n",
    "ax.set_xticklabels((x / (60 * 60)).astype(int))\n",
    "\n",
    "ax.ticklabel_format(style='sci', axis='y', scilimits=(0, 0))\n",
    "\n",
    "ax.set_xlabel('UTC+2')\n",
    "ax.set_ylabel('$N$')\n",
    "\n",
    "# savefig('reddit_times_dist_all', tight_layout=False)\n",
    "\n",
    "plt.show()"
   ]
  },
  {
   "cell_type": "code",
   "execution_count": null,
   "metadata": {},
   "outputs": [],
   "source": [
    "y = np.array(flat_ys)\n",
    "# y = ys[sub_lst.index('europe')]\n",
    "\n",
    "hist, bin_edges = np.histogram(y, bins=24)"
   ]
  },
  {
   "cell_type": "code",
   "execution_count": null,
   "metadata": {},
   "outputs": [],
   "source": [
    "bin_edges = bin_edges[:-1]"
   ]
  },
  {
   "cell_type": "code",
   "execution_count": null,
   "metadata": {},
   "outputs": [],
   "source": [
    "shift = - 6 * 60 * 60\n",
    "\n",
    "b = bin_edges + shift"
   ]
  },
  {
   "cell_type": "code",
   "execution_count": null,
   "metadata": {},
   "outputs": [],
   "source": [
    "ind_neg = np.where(b < 0)[0]\n",
    "ind_pos = np.where(b >= 0)[0]\n",
    "ind = np.concatenate((ind_pos, ind_neg))"
   ]
  },
  {
   "cell_type": "code",
   "execution_count": null,
   "metadata": {},
   "outputs": [],
   "source": [
    "new_hist = hist[ind]"
   ]
  },
  {
   "cell_type": "code",
   "execution_count": null,
   "metadata": {},
   "outputs": [],
   "source": [
    "fig, ax = set_size_decorator(plt.subplots, fraction=0.5, ratio='4:3')(1, 1)\n",
    "\n",
    "ax.plot(bin_edges, hist, lw=1, c='C0', label='CEST')\n",
    "ax.plot(bin_edges, new_hist, lw=1, c='C2', label='EDT')\n",
    "\n",
    "x_ = np.arange(0, 86400, 1)\n",
    "x = x_[::len(x_)//4]\n",
    "x = np.append(x, x_[-1] + 1)\n",
    "\n",
    "ax.set_xticks(x)\n",
    "ax.set_xticklabels((x / (60 * 60)).astype(int))\n",
    "\n",
    "ax.ticklabel_format(style='sci', axis='y', scilimits=(0, 0))\n",
    "\n",
    "ax.set_xlabel('ura v dnevu')\n",
    "ax.set_ylabel('$N$')\n",
    "\n",
    "ax.legend()\n",
    "\n",
    "# savefig('reddit_timezones_dist', tight_layout=False)"
   ]
  },
  {
   "cell_type": "code",
   "execution_count": null,
   "metadata": {},
   "outputs": [],
   "source": [
    "df_posts = build_df(content_type='post', file_path=os.getcwd() + '/reddit_download')"
   ]
  },
  {
   "cell_type": "code",
   "execution_count": null,
   "metadata": {},
   "outputs": [],
   "source": [
    "df_posts[\"datetime\"] = df_posts[\"created_utc\"].apply(datetime.fromtimestamp)\n",
    "df_posts = df_posts.rename(columns={\"created_utc\": \"timestamp\"})\n",
    "df_posts[\"time_in_day\"] = df_posts[\"datetime\"].apply(seconds_in_day)"
   ]
  },
  {
   "cell_type": "code",
   "execution_count": null,
   "metadata": {},
   "outputs": [],
   "source": [
    "ys, flat_ys = get_time_dist(df_posts)"
   ]
  },
  {
   "cell_type": "code",
   "execution_count": null,
   "metadata": {},
   "outputs": [],
   "source": [
    "plt.figure(figsize=(14, 10))\n",
    "for (sub, y) in zip(df_posts['subreddit'].unique(), ys):\n",
    "    plt.hist(y, histtype='step', lw=2, density=True, bins=24, label=f'${sub}$')\n",
    "\n",
    "plt.legend(fontsize=12, loc='lower right')"
   ]
  },
  {
   "cell_type": "code",
   "execution_count": null,
   "metadata": {},
   "outputs": [],
   "source": [
    "plt.hist(flat_ys, histtype='step', bins=24)\n",
    "plt.show()"
   ]
  },
  {
   "cell_type": "code",
   "execution_count": null,
   "metadata": {},
   "outputs": [],
   "source": []
  },
  {
   "cell_type": "code",
   "execution_count": null,
   "metadata": {},
   "outputs": [],
   "source": []
  },
  {
   "cell_type": "code",
   "execution_count": null,
   "metadata": {},
   "outputs": [],
   "source": []
  }
 ],
 "metadata": {
  "kernelspec": {
   "display_name": "Python 3 (ipykernel)",
   "language": "python",
   "name": "python3"
  },
  "language_info": {
   "codemirror_mode": {
    "name": "ipython",
    "version": 3
   },
   "file_extension": ".py",
   "mimetype": "text/x-python",
   "name": "python",
   "nbconvert_exporter": "python",
   "pygments_lexer": "ipython3",
   "version": "3.8.7"
  }
 },
 "nbformat": 4,
 "nbformat_minor": 4
}
